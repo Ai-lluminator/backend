{
 "cells": [
  {
   "cell_type": "code",
   "execution_count": null,
   "metadata": {},
   "outputs": [],
   "source": [
    "import sqlite3\n",
    "from datetime import datetime\n",
    "from chromadb.utils import embedding_functions\n",
    "import json"
   ]
  },
  {
   "cell_type": "code",
   "execution_count": 7,
   "metadata": {},
   "outputs": [
    {
     "name": "stdout",
     "output_type": "stream",
     "text": [
      "Database and sample data have been successfully created.\n"
     ]
    }
   ],
   "source": [
    "# Connect to the SQLite database (or create it if it doesn't exist)\n",
    "conn = sqlite3.connect('/Users/cowolff/Documents/GitHub/AIlluminator/database.db')\n",
    "cursor = conn.cursor()\n",
    "\n",
    "embedding_model = embedding_functions.SentenceTransformerEmbeddingFunction(model_name=\"sentence-transformers/all-MiniLM-L6-v2\")\n",
    "\n",
    "# Create the tables\n",
    "cursor.execute('''\n",
    "CREATE TABLE IF NOT EXISTS users (\n",
    "    id                     INTEGER PRIMARY KEY AUTOINCREMENT,\n",
    "    email                  TEXT,\n",
    "    password               TEXT,\n",
    "    telegram_id            INTEGER,\n",
    "    chat_id                INTEGER,\n",
    "    password_reset_token   TEXT,\n",
    "    password_reset_sent_at TIMESTAMP,\n",
    "    created_at             TIMESTAMP DEFAULT CURRENT_TIMESTAMP,\n",
    "    updated_at             INTEGER\n",
    ")\n",
    "''')\n",
    "\n",
    "cursor.execute('''\n",
    "CREATE TABLE IF NOT EXISTS sessions (\n",
    "    id         INTEGER PRIMARY KEY AUTOINCREMENT,\n",
    "    token      TEXT NOT NULL,\n",
    "    user_id    INTEGER NOT NULL,\n",
    "    created_at TIMESTAMP DEFAULT CURRENT_TIMESTAMP,\n",
    "    FOREIGN KEY(user_id) REFERENCES users(id)\n",
    ")\n",
    "''')\n",
    "\n",
    "cursor.execute('''\n",
    "CREATE TABLE IF NOT EXISTS prompts (\n",
    "    id         INTEGER PRIMARY KEY AUTOINCREMENT,\n",
    "    user_id    INTEGER NOT NULL,\n",
    "    prompt     TEXT NOT NULL,\n",
    "    created_at TIMESTAMP DEFAULT CURRENT_TIMESTAMP,\n",
    "    FOREIGN KEY(user_id) REFERENCES users(id)\n",
    ")\n",
    "''')\n",
    "\n",
    "cursor.execute('''\n",
    "    CREATE TABLE IF NOT EXISTS messages_sent (\n",
    "        timestamp TIMESTAMP DEFAULT CURRENT_TIMESTAMP,\n",
    "        user_id INTEGER NOT NULL,\n",
    "        num_papers INTEGER NOT NULL\n",
    ")\n",
    "''')\n",
    "\n",
    "cursor.execute('''\n",
    "    CREATE TABLE IF NOT EXISTS number_users (\n",
    "        timestamp TIMESTAMP DEFAULT CURRENT_TIMESTAMP,\n",
    "        num_users INTEGER NOT NULL\n",
    ")\n",
    "''')\n",
    "\n",
    "cursor.execute('''\n",
    "        CREATE TABLE IF NOT EXISTS preview_papers (\n",
    "            timestamp TIMESTAMP DEFAULT CURRENT_TIMESTAMP,\n",
    "            user_id INTEGER NOT NULL,\n",
    "            prompt TEXT NOT NULL\n",
    ")\n",
    "''')\n",
    "\n",
    "print(\"Database and sample data have been successfully created.\")"
   ]
  },
  {
   "cell_type": "code",
   "execution_count": null,
   "metadata": {},
   "outputs": [],
   "source": [
    "conn = sqlite3.connect('/Users/cowolff/Documents/GitHub/AIlluminator/database.db')\n",
    "cursor = conn.cursor()\n",
    "\n",
    "# Add updated_at column to users table\n",
    "cursor.execute('''\n",
    "ALTER TABLE users ADD COLUMN updated_at INTEGER\n",
    "''')\n",
    "conn.commit()\n",
    "conn.close()"
   ]
  },
  {
   "cell_type": "code",
   "execution_count": 8,
   "metadata": {},
   "outputs": [],
   "source": [
    "cursor.execute('''\n",
    "INSERT INTO users (email, password, telegram_id, chat_id, password_reset_token, password_reset_sent_at)\n",
    "VALUES ('user1@example.com', 'password1', 123456789, 987654321, 'token1', '2022-01-01 00:00:00'),\n",
    "       ('user2@example.com', 'password2', 987654321, 123456789, 'token2', '2022-01-02 00:00:00'),\n",
    "       ('user3@example.com', 'password3', 555555555, 999999999, 'token3', '2022-01-03 00:00:00')\n",
    "''')\n",
    "\n",
    "cursor.execute('''\n",
    "INSERT INTO prompts (user_id, prompt)\n",
    "VALUES (1, 'Prompt 1'),\n",
    "       (2, 'Prompt 2'),\n",
    "       (3, 'Prompt 3')\n",
    "''')\n",
    "\n",
    "conn.commit()\n",
    "conn.close()"
   ]
  }
 ],
 "metadata": {
  "kernelspec": {
   "display_name": "dfki",
   "language": "python",
   "name": "python3"
  },
  "language_info": {
   "codemirror_mode": {
    "name": "ipython",
    "version": 3
   },
   "file_extension": ".py",
   "mimetype": "text/x-python",
   "name": "python",
   "nbconvert_exporter": "python",
   "pygments_lexer": "ipython3",
   "version": "3.10.13"
  }
 },
 "nbformat": 4,
 "nbformat_minor": 2
}
