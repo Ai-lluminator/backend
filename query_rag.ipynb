{
 "cells": [
  {
   "cell_type": "code",
   "execution_count": 1,
   "metadata": {},
   "outputs": [],
   "source": [
    "from database import RAG\n",
    "import time"
   ]
  },
  {
   "cell_type": "code",
   "execution_count": 2,
   "metadata": {},
   "outputs": [],
   "source": [
    "query = \"I am interested in the emergent behaviour of Artificial Intelligence in combination with Reinforcement Learning\""
   ]
  },
  {
   "cell_type": "code",
   "execution_count": 3,
   "metadata": {},
   "outputs": [
    {
     "name": "stderr",
     "output_type": "stream",
     "text": [
      "/Users/cowolff/miniconda3/envs/AIlluminator/lib/python3.10/site-packages/tqdm/auto.py:21: TqdmWarning: IProgress not found. Please update jupyter and ipywidgets. See https://ipywidgets.readthedocs.io/en/stable/user_install.html\n",
      "  from .autonotebook import tqdm as notebook_tqdm\n"
     ]
    },
    {
     "name": "stdout",
     "output_type": "stream",
     "text": [
      "dict_keys(['ids', 'distances', 'metadatas', 'embeddings', 'documents', 'uris', 'data'])\n",
      "['Ethical concerns related to the use of artificial intelligence in dermatopathology.', 'Synergy and collaboration with young educators and students: Insights from an open forum on generative artificial intelligence in medical education.', 'Tribulations and future opportunities for artificial intelligence in precision medicine.', \"'This time is different': physician knowledge in the age of artificial intelligence.\"]\n",
      "[0.3898020386695862, 0.39617180824279785, 0.3985201120376587, 0.3996747136116028]\n"
     ]
    }
   ],
   "source": [
    "rag = RAG()\n",
    "timestep = time.time() - 24 * 60 * 60\n",
    "results = rag.query(query, limit=4, updated_at=timestep)\n",
    "print(results.keys())\n",
    "print([paper['title'] for paper in results['metadatas'][0]])\n",
    "print([distances for distances in results['distances'][0]])"
   ]
  }
 ],
 "metadata": {
  "kernelspec": {
   "display_name": "AIlluminator",
   "language": "python",
   "name": "python3"
  },
  "language_info": {
   "codemirror_mode": {
    "name": "ipython",
    "version": 3
   },
   "file_extension": ".py",
   "mimetype": "text/x-python",
   "name": "python",
   "nbconvert_exporter": "python",
   "pygments_lexer": "ipython3",
   "version": "3.10.13"
  }
 },
 "nbformat": 4,
 "nbformat_minor": 2
}
